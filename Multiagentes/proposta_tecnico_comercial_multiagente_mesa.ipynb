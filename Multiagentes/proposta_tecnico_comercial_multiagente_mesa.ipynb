{
  "nbformat": 4,
  "nbformat_minor": 0,
  "metadata": {
    "colab": {
      "provenance": []
    },
    "kernelspec": {
      "name": "python3",
      "display_name": "Python 3"
    },
    "language_info": {
      "name": "python"
    }
  },
  "cells": [
    {
      "cell_type": "markdown",
      "source": [
        "## Importações Necessárias"
      ],
      "metadata": {
        "id": "tnhmUQvSZaE8"
      }
    },
    {
      "cell_type": "code",
      "source": [
        "!pip install fpdf"
      ],
      "metadata": {
        "colab": {
          "base_uri": "https://localhost:8080/"
        },
        "id": "sWmbOEG6aICq",
        "outputId": "80c4d32a-2bee-41da-8fb2-153609c2858c"
      },
      "execution_count": 1,
      "outputs": [
        {
          "output_type": "stream",
          "name": "stdout",
          "text": [
            "Collecting fpdf\n",
            "  Downloading fpdf-1.7.2.tar.gz (39 kB)\n",
            "  Preparing metadata (setup.py) ... \u001b[?25l\u001b[?25hdone\n",
            "Building wheels for collected packages: fpdf\n",
            "  Building wheel for fpdf (setup.py) ... \u001b[?25l\u001b[?25hdone\n",
            "  Created wheel for fpdf: filename=fpdf-1.7.2-py2.py3-none-any.whl size=40704 sha256=6d0c35e0e3dd58c6071b653c6492610c49a54660421dff68606d8df74856338e\n",
            "  Stored in directory: /root/.cache/pip/wheels/6e/62/11/dc73d78e40a218ad52e7451f30166e94491be013a7850b5d75\n",
            "Successfully built fpdf\n",
            "Installing collected packages: fpdf\n",
            "Successfully installed fpdf-1.7.2\n"
          ]
        }
      ]
    },
    {
      "cell_type": "code",
      "source": [
        "!pip install Mesa==0.5.1"
      ],
      "metadata": {
        "colab": {
          "base_uri": "https://localhost:8080/"
        },
        "id": "vtmLH6-QaNOZ",
        "outputId": "405f6c4f-bccb-4a05-b0e3-fe62c0da4375"
      },
      "execution_count": 2,
      "outputs": [
        {
          "output_type": "stream",
          "name": "stdout",
          "text": [
            "Collecting Mesa==0.5.1\n",
            "  Downloading Mesa-0.5.1.tar.gz (7.0 kB)\n",
            "  Preparing metadata (setup.py) ... \u001b[?25l\u001b[?25hdone\n",
            "Requirement already satisfied: tornado in /usr/local/lib/python3.12/dist-packages (from Mesa==0.5.1) (6.5.1)\n",
            "Requirement already satisfied: numpy in /usr/local/lib/python3.12/dist-packages (from Mesa==0.5.1) (2.0.2)\n",
            "Requirement already satisfied: pandas in /usr/local/lib/python3.12/dist-packages (from Mesa==0.5.1) (2.2.2)\n",
            "Requirement already satisfied: scipy in /usr/local/lib/python3.12/dist-packages (from Mesa==0.5.1) (1.16.2)\n",
            "Requirement already satisfied: python-dateutil>=2.8.2 in /usr/local/lib/python3.12/dist-packages (from pandas->Mesa==0.5.1) (2.9.0.post0)\n",
            "Requirement already satisfied: pytz>=2020.1 in /usr/local/lib/python3.12/dist-packages (from pandas->Mesa==0.5.1) (2025.2)\n",
            "Requirement already satisfied: tzdata>=2022.7 in /usr/local/lib/python3.12/dist-packages (from pandas->Mesa==0.5.1) (2025.2)\n",
            "Requirement already satisfied: six>=1.5 in /usr/local/lib/python3.12/dist-packages (from python-dateutil>=2.8.2->pandas->Mesa==0.5.1) (1.17.0)\n",
            "Building wheels for collected packages: Mesa\n",
            "  Building wheel for Mesa (setup.py) ... \u001b[?25l\u001b[?25hdone\n",
            "  Created wheel for Mesa: filename=Mesa-0.5.1-py3-none-any.whl size=8467 sha256=64ca60ba60a3d929cc1e3dad907124fd4dda3180bbf4c54c7da2906b22e826b0\n",
            "  Stored in directory: /root/.cache/pip/wheels/4a/20/83/9883468540627d03c3342a8e29728cf8ef81ff7a379e1556ab\n",
            "Successfully built Mesa\n",
            "Installing collected packages: Mesa\n",
            "Successfully installed Mesa-0.5.1\n"
          ]
        }
      ]
    },
    {
      "cell_type": "code",
      "execution_count": 3,
      "metadata": {
        "id": "3GOy_FaBYnbC"
      },
      "outputs": [],
      "source": [
        "\n",
        "import time\n",
        "import json # Para lidar com a resposta JSON estruturada do LLM\n",
        "import numpy as np\n",
        "from fpdf import FPDF\n",
        "from mesa import Agent, Model\n",
        "from mesa.time import RandomActivation\n",
        "import ast # Para parsear a string do LLM para dict"
      ]
    },
    {
      "cell_type": "markdown",
      "source": [
        "## Sistema de Desenvolvimento de Proposta Multiagente"
      ],
      "metadata": {
        "id": "bu2WT-KoaWI4"
      }
    },
    {
      "cell_type": "code",
      "source": [
        "# --- SIMULAÇÃO DA CHAMADA DE API DO GEMINI ---\n",
        "# Em um ambiente real, você faria uma chamada POST para a API do Gemini\n",
        "# com um systemInstruction e um responseSchema para garantir o formato JSON.\n",
        "# Aqui, nesta PoC para iniciantes simulamos o resultado estruturado.\n",
        "\n",
        "def simulate_gemini_structured_response(prompt_text):\n",
        "    \"\"\"\n",
        "    Simula a chamada à API do Gemini para gerar um escopo e condições\n",
        "    comerciais em formato JSON estruturado.\n",
        "\n",
        "    Args:\n",
        "        prompt_text: A descrição do serviço a ser analisada pelo LLM.\n",
        "\n",
        "    Returns:\n",
        "        Um dicionário Python (resultado da conversão do JSON) simulando\n",
        "        a resposta estruturada do LLM.\n",
        "    \"\"\"\n",
        "    # System Instruction: Define o papel do LLM para garantir a consistência\n",
        "    # system_prompt = \"Você é um Analista de Propostas Sênior. Sua tarefa é analisar a descrição do projeto e gerar um Escopo Técnico detalhado e Condições Comerciais em formato JSON estruturado.\"\n",
        "\n",
        "    # Structured Response Schema (Simulado):\n",
        "    # response_schema = {\n",
        "    #   \"scope_title\": \"Título do Escopo\",\n",
        "    #   \"scope_summary\": \"Resumo executivo do escopo.\",\n",
        "    #   \"scope_details\": [{\"item\": \"...\", \"description\": \"...\"}, ...],\n",
        "    #   \"commercial_conditions\": {\"price_base\": 50000.00, \"payment_terms\": \"...\", \"warranty\": \"...\"}\n",
        "    # }\n",
        "\n",
        "    print(f\"LLMAgent: Analisando a solicitação: '{prompt_text}' e gerando estrutura...\")\n",
        "    time.sleep(3) # Simula o tempo de latência da API\n",
        "\n",
        "    # Estrutura JSON simulada e consistente\n",
        "    simulated_json_response = {\n",
        "      \"scope_title\": \"Proposta para Construção e Lançamento de Ponte Rodoviária de Médio Porte\",\n",
        "      \"scope_summary\": \"Este escopo cobre todas as fases, desde o estudo de viabilidade até a entrega final da estrutura, focando em segurança, durabilidade e conformidade regulatória.\",\n",
        "      \"scope_details\": [\n",
        "        {\"item\": \"Fase 1: Estudo de Viabilidade e Licenciamento\", \"description\": \"Análise geotécnica, levantamento topográfico e obtenção de todas as licenças ambientais e de construção necessárias.\"},\n",
        "        {\"item\": \"Fase 2: Projeto Estrutural Detalhado\", \"description\": \"Desenvolvimento completo do projeto de engenharia, incluindo cálculos de carga, especificações de materiais (concreto e aço) e desenhos de execução.\"},\n",
        "        {\"item\": \"Fase 3: Execução da Obra e Lançamento\", \"description\": \"Construção das fundações (pilares e estacas), montagem da superestrutura e operação de lançamento da ponte. Inclui gestão de segurança rigorosa.\"},\n",
        "        {\"item\": \"Fase 4: Testes de Carga e Entrega Final\", \"description\": \"Realização de testes de estresse conforme normas ABNT e preparação da documentação 'As Built' para entrega ao cliente.\"}\n",
        "      ],\n",
        "      \"commercial_conditions\": {\n",
        "        \"price_base\": 2850000.00,\n",
        "        \"payment_terms\": \"20% na assinatura; 40% após a conclusão da Fase 2; 40% na entrega e aceite final.\",\n",
        "        \"warranty\": \"5 anos de garantia contra defeitos estruturais e de materiais.\"\n",
        "      }\n",
        "    }\n",
        "\n",
        "    print(\"LLMAgent: Estrutura JSON gerada com sucesso.\")\n",
        "    return simulated_json_response"
      ],
      "metadata": {
        "id": "6KUdIhReYqjl"
      },
      "execution_count": 5,
      "outputs": []
    },
    {
      "cell_type": "code",
      "source": [
        "# --- Definição dos Agentes ---\n",
        "\n",
        "class ScopeAgent(Agent):\n",
        "    \"\"\"Agente responsável por interagir com o LLM (Gemini) e gerar o escopo estruturado.\"\"\"\n",
        "    def __init__(self, unique_id, model):\n",
        "        super().__init__(unique_id, model)\n",
        "        self.scope_ready = False\n",
        "        self.proposal_data = {} # Armazena o JSON estruturado do LLM\n",
        "\n",
        "    def generate_scope(self, description):\n",
        "        # Chama a função que simula a inteligência do LLM e obtém o JSON\n",
        "        self.proposal_data = simulate_gemini_structured_response(description)\n",
        "        self.scope_ready = bool(self.proposal_data)\n",
        "        print(\"ScopeAgent: Dados da Proposta (LLM) armazenados.\")\n",
        "\n",
        "    def step(self, model):\n",
        "        pass\n",
        "\n",
        "class CostAgent(Agent):\n",
        "    \"\"\"Agente responsável por calcular os custos e refinar a proposta.\"\"\"\n",
        "    def __init__(self, unique_id, model):\n",
        "        super().__init__(unique_id, model)\n",
        "        self.costs_ready = False\n",
        "        self.final_cost = 0.0\n",
        "\n",
        "    def calculate_costs(self, proposal_data):\n",
        "        if not proposal_data:\n",
        "            return\n",
        "\n",
        "        # O custo base veio do LLM (price_base), mas o Agente de Custo aplica a margem\n",
        "        base_cost = proposal_data['commercial_conditions']['price_base']\n",
        "\n",
        "        print(\"CostAgent: Calculando e ajustando custos...\")\n",
        "        time.sleep(1)\n",
        "\n",
        "        # Simulação de cálculo de custo mais robusto: Custo base + 15% de imposto/margem\n",
        "        margin_factor = 1.15\n",
        "        self.final_cost = base_cost * margin_factor\n",
        "        self.costs_ready = True\n",
        "        print(f\"CostAgent: Custo final calculado: R$ {self.final_cost:,.2f}\")\n",
        "\n",
        "    def step(self, model):\n",
        "        pass\n",
        "\n",
        "class PDFAgent(Agent):\n",
        "    \"\"\"Agente responsável por formatar e gerar o PDF final.\"\"\"\n",
        "    def __init__(self, unique_id, model):\n",
        "        super().__init__(unique_id, model)\n",
        "        self.pdf_generated = False\n",
        "\n",
        "    def generate_pdf(self, proposal_data, final_cost, filename=\"proposta_gemini.pdf\"):\n",
        "        if not all([proposal_data, final_cost]):\n",
        "            return\n",
        "        print(\"PDFAgent: Gerando o arquivo PDF com conteúdo estruturado...\")\n",
        "\n",
        "        # Desempacota os dados estruturados\n",
        "        scope_title = proposal_data['scope_title']\n",
        "        scope_summary = proposal_data['scope_summary']\n",
        "        scope_details = proposal_data['scope_details']\n",
        "\n",
        "        # Desempacota as condições comerciais\n",
        "        conditions = proposal_data['commercial_conditions']\n",
        "        payment_terms = conditions['payment_terms']\n",
        "        warranty = conditions['warranty']\n",
        "\n",
        "        pdf = FPDF('P', 'mm', 'A4')\n",
        "        pdf.set_auto_page_break(auto=True, margin=15)\n",
        "        pdf.add_page()\n",
        "\n",
        "        # Configuração de Título\n",
        "        pdf.set_font(\"Arial\", 'B', 16)\n",
        "        pdf.cell(0, 10, txt=\"Proposta Técnica e Comercial - Gerada por Agentes LLM\", ln=1, align=\"C\")\n",
        "        pdf.set_font(\"Arial\", '', 10)\n",
        "        pdf.cell(0, 5, txt=\"Estrutura de Proposta robusta e consistente\", ln=1, align=\"C\")\n",
        "        pdf.ln(5)\n",
        "\n",
        "        # Título do Escopo\n",
        "        pdf.set_fill_color(220, 220, 220)\n",
        "        pdf.set_font(\"Arial\", 'B', 14)\n",
        "        pdf.cell(0, 8, txt=scope_title, ln=1, fill=True, align='L')\n",
        "        pdf.ln(2)\n",
        "\n",
        "        # Resumo Executivo\n",
        "        pdf.set_font(\"Arial\", 'B', 12)\n",
        "        pdf.cell(0, 6, txt=\"Resumo Executivo\", ln=1)\n",
        "        pdf.set_font(\"Arial\", '', 11)\n",
        "        pdf.multi_cell(0, 6, txt=scope_summary)\n",
        "        pdf.ln(5)\n",
        "\n",
        "        # Detalhes do Escopo\n",
        "        pdf.set_font(\"Arial\", 'B', 12)\n",
        "        pdf.cell(0, 6, txt=\"Detalhes do Escopo:\", ln=1)\n",
        "        pdf.set_font(\"Arial\", '', 11)\n",
        "\n",
        "        for detail in scope_details:\n",
        "            pdf.set_font(\"Arial\", 'B', 11)\n",
        "            # Encode to utf-8 to handle special characters like bullet points\n",
        "            pdf.multi_cell(0, 6, txt=f\"• {detail['item']}\".encode('utf-8').decode('latin-1'), border=0, align='L')\n",
        "            pdf.set_font(\"Arial\", 'I', 10)\n",
        "            # Encode to utf-8 to handle special characters like bullet points\n",
        "            pdf.multi_cell(0, 5, txt=f\"  {detail['description']}\".encode('utf-8').decode('latin-1'), border=0, align='J')\n",
        "            pdf.ln(1)\n",
        "\n",
        "        pdf.ln(5)\n",
        "\n",
        "        # Condições Comerciais\n",
        "        pdf.set_font(\"Arial\", 'B', 14)\n",
        "        pdf.cell(0, 8, txt=\"Condições Comerciais\", ln=1, fill=True, align='L')\n",
        "        pdf.ln(2)\n",
        "\n",
        "        pdf.set_font(\"Arial\", 'B', 12)\n",
        "        pdf.cell(40, 6, txt=\"Termos de Pagamento:\", border=0)\n",
        "        pdf.set_font(\"Arial\", '', 12)\n",
        "        pdf.cell(0, 6, txt=payment_terms, ln=1)\n",
        "\n",
        "        pdf.set_font(\"Arial\", 'B', 12)\n",
        "        pdf.cell(40, 6, txt=\"Garantia:\", border=0)\n",
        "        pdf.set_font(\"Arial\", '', 12)\n",
        "        pdf.cell(0, 6, txt=warranty, ln=1)\n",
        "\n",
        "        pdf.ln(5)\n",
        "\n",
        "        # Custo Final\n",
        "        pdf.set_font(\"Arial\", 'B', 16)\n",
        "        pdf.set_text_color(255, 0, 0)\n",
        "        pdf.cell(0, 10, txt=f\"CUSTO TOTAL FINAL: R$ {final_cost:,.2f}\", ln=1, align=\"C\", border=1)\n",
        "\n",
        "        pdf.output(filename) # Output the PDF\n",
        "\n",
        "        self.pdf_generated = True\n",
        "        print(f\"PDFAgent: Proposta gerada com sucesso: {filename}\")\n",
        "\n",
        "    def step(self, model):\n",
        "        pass"
      ],
      "metadata": {
        "id": "PDMsfQwfYqgE"
      },
      "execution_count": 6,
      "outputs": []
    },
    {
      "cell_type": "code",
      "source": [
        "class CoordinatorAgent(Agent):\n",
        "    \"\"\"Agente que coordena a solicitação e a comunicação entre os outros agentes.\"\"\"\n",
        "    def __init__(self, unique_id, model):\n",
        "        super().__init__(unique_id, model)\n",
        "        self.proposal_created = False\n",
        "        # A descrição do projeto que seria analisada pelo LLM\n",
        "        self.project_description = \"Construção de uma ponte rodoviária de concreto armado de 150 metros sobre o rio principal.\"\n",
        "\n",
        "    def step(self, model):\n",
        "        # A lógica de coordenação acontece aqui\n",
        "        if not self.proposal_created:\n",
        "\n",
        "            # Recupera os agentes (simplesmente iterando para garantir que todos existam)\n",
        "            scope_agent = next((a for a in self.model.schedule.agents if isinstance(a, ScopeAgent)), None)\n",
        "            cost_agent = next((a for a in self.model.schedule.agents if isinstance(a, CostAgent)), None)\n",
        "            pdf_agent = next((a for a in self.model.schedule.agents if isinstance(a, PDFAgent)), None)\n",
        "\n",
        "            if scope_agent and cost_agent and pdf_agent:\n",
        "                print(f\"\\nCoordinator: Iniciando geração da Proposta para: {self.project_description}\")\n",
        "\n",
        "                # 1. Solicita ao Agente de Escopo para interagir com o LLM (Gemini)\n",
        "                scope_agent.generate_scope(self.project_description)\n",
        "\n",
        "                # 2. Quando o escopo estruturado estiver pronto\n",
        "                if scope_agent.scope_ready:\n",
        "\n",
        "                    # 3. Solicita ao Agente de Custos que inicie o cálculo, passando o JSON estruturado\n",
        "                    cost_agent.calculate_costs(scope_agent.proposal_data)\n",
        "\n",
        "                    # 4. Quando o custo final for ajustado\n",
        "                    if cost_agent.costs_ready:\n",
        "\n",
        "                        # 5. Solicita ao Agente de PDF para compilar os dados e gerar a proposta final\n",
        "                        pdf_agent.generate_pdf(\n",
        "                            proposal_data=scope_agent.proposal_data,\n",
        "                            final_cost=cost_agent.final_cost\n",
        "                        )\n",
        "                        self.proposal_created = True\n",
        "                        print(\"\\nCoordinator: Processo de Proposta Concluído.\")\n",
        "                        self.model.running = False # Encerra o modelo após a criação da proposta\n",
        "\n",
        "class ProposalModel(Model):\n",
        "    \"\"\"Modelo multiagente para gerar propostas.\"\"\"\n",
        "    def __init__(self):\n",
        "        self.schedule = RandomActivation(self)\n",
        "        self.running = True\n",
        "\n",
        "        # Cria os agentes\n",
        "        self.coordinator = CoordinatorAgent(0, self)\n",
        "        self.scope_agent = ScopeAgent(1, self)\n",
        "        self.cost_agent = CostAgent(2, self)\n",
        "        self.pdf_agent = PDFAgent(3, self)\n",
        "\n",
        "        # Adiciona os agentes ao agendador\n",
        "        self.schedule.add(self.coordinator)\n",
        "        self.schedule.add(self.scope_agent)\n",
        "        self.schedule.add(self.cost_agent)\n",
        "        self.schedule.add(self.pdf_agent)\n",
        "\n",
        "    def step(self):\n",
        "        # Avança o modelo em um \"passo\" de tempo\n",
        "        self.schedule.step()\n"
      ],
      "metadata": {
        "id": "YVKK1EIbYqcl"
      },
      "execution_count": 7,
      "outputs": []
    },
    {
      "cell_type": "code",
      "source": [
        "# --- Execução do modelo ---\n",
        "\n",
        "if __name__ == \"__main__\":\n",
        "    print(\"Iniciando Simulação de Geração de Proposta Multiagente com LLM (Gemini)...\")\n",
        "    model = ProposalModel()\n",
        "    while model.running:\n",
        "        model.step()\n",
        "    print(\"Simulação concluída!\")\n"
      ],
      "metadata": {
        "colab": {
          "base_uri": "https://localhost:8080/"
        },
        "id": "wuE7UaJmZ38r",
        "outputId": "ded49d46-749c-4136-cbf6-3daa1deedb5c"
      },
      "execution_count": 8,
      "outputs": [
        {
          "output_type": "stream",
          "name": "stdout",
          "text": [
            "Iniciando Simulação de Geração de Proposta Multiagente com LLM (Gemini)...\n",
            "\n",
            "Coordinator: Iniciando geração da Proposta para: Construção de uma ponte rodoviária de concreto armado de 150 metros sobre o rio principal.\n",
            "LLMAgent: Analisando a solicitação: 'Construção de uma ponte rodoviária de concreto armado de 150 metros sobre o rio principal.' e gerando estrutura...\n",
            "LLMAgent: Estrutura JSON gerada com sucesso.\n",
            "ScopeAgent: Dados da Proposta (LLM) armazenados.\n",
            "CostAgent: Calculando e ajustando custos...\n",
            "CostAgent: Custo final calculado: R$ 3,277,500.00\n",
            "PDFAgent: Gerando o arquivo PDF com conteúdo estruturado...\n",
            "PDFAgent: Proposta gerada com sucesso: proposta_gemini.pdf\n",
            "\n",
            "Coordinator: Processo de Proposta Concluído.\n",
            "Simulação concluída!\n"
          ]
        }
      ]
    }
  ]
}